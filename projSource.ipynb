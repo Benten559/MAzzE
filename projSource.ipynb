{
  "nbformat": 4,
  "nbformat_minor": 0,
  "metadata": {
    "colab": {
      "name": "dataCleaning",
      "provenance": [],
      "collapsed_sections": [],
      "machine_shape": "hm",
      "include_colab_link": true
    },
    "kernelspec": {
      "name": "python3",
      "display_name": "Python 3"
    }
  },
  "cells": [
    {
      "cell_type": "markdown",
      "metadata": {
        "id": "view-in-github",
        "colab_type": "text"
      },
      "source": [
        "<a href=\"https://colab.research.google.com/github/Benten559/MAzzE/blob/master/projSource.ipynb\" target=\"_parent\"><img src=\"https://colab.research.google.com/assets/colab-badge.svg\" alt=\"Open In Colab\"/></a>"
      ]
    },
    {
      "cell_type": "code",
      "metadata": {
        "id": "bu5eeRe6MoTM",
        "colab_type": "code",
        "outputId": "593debe8-9eb7-4bcf-d5f8-faeb80152404",
        "colab": {
          "base_uri": "https://localhost:8080/",
          "height": 121
        }
      },
      "source": [
        "# Load dependencies\n",
        "import numpy as np\n",
        "import pandas as pd\n",
        "import seaborn as sns\n",
        "import matplotlib.pyplot as plt\n",
        "\n",
        "import os\n",
        "from google.colab import drive\n",
        "# Follow the link, copy and paste the code provided\n",
        "drive.mount('/content/drive/')"
      ],
      "execution_count": 0,
      "outputs": [
        {
          "output_type": "stream",
          "text": [
            "Go to this URL in a browser: https://accounts.google.com/o/oauth2/auth?client_id=947318989803-6bn6qk8qdgf4n4g3pfee6491hc0brc4i.apps.googleusercontent.com&redirect_uri=urn%3aietf%3awg%3aoauth%3a2.0%3aoob&response_type=code&scope=email%20https%3a%2f%2fwww.googleapis.com%2fauth%2fdocs.test%20https%3a%2f%2fwww.googleapis.com%2fauth%2fdrive%20https%3a%2f%2fwww.googleapis.com%2fauth%2fdrive.photos.readonly%20https%3a%2f%2fwww.googleapis.com%2fauth%2fpeopleapi.readonly\n",
            "\n",
            "Enter your authorization code:\n",
            "··········\n",
            "Mounted at /content/drive/\n"
          ],
          "name": "stdout"
        }
      ]
    },
    {
      "cell_type": "code",
      "metadata": {
        "id": "TN52Ae8AUhh6",
        "colab_type": "code",
        "outputId": "e67fa29e-53a3-4e9f-8f42-d64fabf321a1",
        "colab": {
          "base_uri": "https://localhost:8080/",
          "height": 104
        }
      },
      "source": [
        "# Load Dataframes\n",
        "# City of Fresno employee payroll:\n",
        "CoF = pd.read_csv('/content/drive/Shared drives/csci191t-project/ColabNotebooks/tabula-18-Fsalary.csv',dtype={'Job_title':str,'annual_inc':'int64'})\n",
        "loans = pd.read_csv('/content/drive/Shared drives/csci191t-project/ColabNotebooks/loan.csv') #Ben's Data set\n",
        "# data2 = pd.read_csv('/content/drive/Shared drives/csci191t-project/ColabNotebooks/bank.csv') #Simran's Data set\n",
        "# data3 = pd.read_csv('/content/drive/Shared drives/csci191t-project/ColabNotebooks/detailed_loans.csv') #Jack's Data set\n",
        "data4 = pd.read_csv('/content/drive/Shared drives/csci191t-project/ColabNotebooks/loanD.csv') # Dingcheng data set\n",
        "\n",
        "\n",
        "# loans.info()"
      ],
      "execution_count": 0,
      "outputs": [
        {
          "output_type": "stream",
          "text": [
            "/usr/local/lib/python3.6/dist-packages/IPython/core/interactiveshell.py:2718: DtypeWarning: Columns (19,55) have mixed types.Specify dtype option on import or set low_memory=False.\n",
            "  interactivity=interactivity, compiler=compiler, result=result)\n",
            "/usr/local/lib/python3.6/dist-packages/IPython/core/interactiveshell.py:2718: DtypeWarning: Columns (19,47,55,112,123,124,125,128,129,130,133,139,140,141) have mixed types.Specify dtype option on import or set low_memory=False.\n",
            "  interactivity=interactivity, compiler=compiler, result=result)\n"
          ],
          "name": "stderr"
        }
      ]
    },
    {
      "cell_type": "code",
      "metadata": {
        "id": "kylwPwbu1S0x",
        "colab_type": "code",
        "colab": {}
      },
      "source": [
        "#Sheets formatted already\n",
        "CoF16 = pd.read_csv('/content/drive/Shared drives/csci191t-project/ColabNotebooks/Employee-Gross-Wages2016.csv')\n",
        "CoF17 = pd.read_csv('/content/drive/Shared drives/csci191t-project/ColabNotebooks/Employee-Gross-Wages2017.csv')"
      ],
      "execution_count": 0,
      "outputs": []
    },
    {
      "cell_type": "code",
      "metadata": {
        "id": "2A30iYGK1kQT",
        "colab_type": "code",
        "colab": {}
      },
      "source": [
        "a = CoF16.annual_inc.mean()"
      ],
      "execution_count": 0,
      "outputs": []
    },
    {
      "cell_type": "code",
      "metadata": {
        "id": "sFuSWOnF1wIh",
        "colab_type": "code",
        "colab": {}
      },
      "source": [
        "b = CoF17.annual_inc.mean()"
      ],
      "execution_count": 0,
      "outputs": []
    },
    {
      "cell_type": "code",
      "metadata": {
        "id": "TYXHW32W5ook",
        "colab_type": "code",
        "colab": {}
      },
      "source": [
        "c = CoF.annual_inc.mean()"
      ],
      "execution_count": 0,
      "outputs": []
    },
    {
      "cell_type": "code",
      "metadata": {
        "id": "2tbLiErt5RMU",
        "colab_type": "code",
        "outputId": "f5f38f74-7243-4629-d9ed-2cabf457758c",
        "colab": {
          "base_uri": "https://localhost:8080/",
          "height": 312
        }
      },
      "source": [
        "# plt.scatter(x=['2016','2017','2018'],y=[a,b,c],marker='|')\n",
        "plt.title(\"Mean income over 3 years\")\n",
        "plt.ylabel(\"Annual Income\")\n",
        "plt.xlabel(\"Payroll Years\")\n",
        "plt.plot(['2016','2017','2018'],[a,b,c])"
      ],
      "execution_count": 0,
      "outputs": [
        {
          "output_type": "execute_result",
          "data": {
            "text/plain": [
              "[<matplotlib.lines.Line2D at 0x7f63ff2ed358>]"
            ]
          },
          "metadata": {
            "tags": []
          },
          "execution_count": 21
        },
        {
          "output_type": "display_data",
          "data": {
            "image/png": "[encoded data removed]",
            "text/plain": [
              "<Figure size 432x288 with 1 Axes>"
            ]
          },
          "metadata": {
            "tags": [],
            "needs_background": "light"
          }
        }
      ]
    },
    {
      "cell_type": "code",
      "metadata": {
        "id": "JHQGrzdtttaM",
        "colab_type": "code",
        "colab": {}
      },
      "source": [
        "# Both loan datasets must used to form one larger dataset \n",
        "# All columns must match names to correctly train model\n",
        "# No remaining NaNs after cleaning/altering\n",
        "# Notes:\n",
        "# CoF data needs columns: 'funded_amnt','installment','int_rate','dti','delinq_2yrs','loan_status'\n",
        "# funded_amnt will be done in sequences to display \n",
        "data1 = data4[['annual_inc','funded_amnt','installment','int_rate','dti','delinq_2yrs','loan_status']]\n",
        "data = loans[['annual_inc','funded_amnt','installment','int_rate','dti','delinq_2yrs','loan_status']]\n",
        "#print(data.head())\n",
        "# The MAIN dataframe for training:\n",
        "double = pd.merge(data1,data,how='outer')\n",
        "# double.info()\n",
        "# double.head()\n"
      ],
      "execution_count": 0,
      "outputs": []
    },
    {
      "cell_type": "code",
      "metadata": {
        "id": "JNzN5rHntCi5",
        "colab_type": "code",
        "colab": {}
      },
      "source": [
        "# Change loanstatus values to number\n",
        "#   0 charged off\n",
        "#   1 Fully Paid\n",
        "def statclean(x):\n",
        "    if (x == 'Charged Off'): return 0\n",
        "    elif (x == 'Fully Paid'):return 1\n",
        "    elif (x.startswith('Fully', 40)): return 1\n",
        "    elif (x.startswith('Charged', 40)): return 0\n",
        "# drops NaNs from df\n",
        "# Because statclean() can not be executed over NaNs\n",
        "double = double.dropna() \n",
        "\n",
        "\n"
      ],
      "execution_count": 0,
      "outputs": []
    },
    {
      "cell_type": "code",
      "metadata": {
        "id": "rWC53l3PKvKr",
        "colab_type": "code",
        "colab": {}
      },
      "source": [
        "# Change string values to integer values (listed in statClean())\n",
        "double.loan_status = double.loan_status.apply(statclean)\n",
        "# Because statclean() leaves NaNs for some irrelevant info\n",
        "double = double.dropna() \n",
        "#print(double[\"delinq_2yrs\"].max())\n",
        "#print(double[\"delinq_2yrs\"].min())\n",
        "#double.groupby('loan_status').size()"
      ],
      "execution_count": 0,
      "outputs": []
    },
    {
      "cell_type": "code",
      "metadata": {
        "id": "8x1P1gR8Jorr",
        "colab_type": "code",
        "outputId": "6e314471-2760-40bc-8714-bc5eda3c7432",
        "colab": {
          "base_uri": "https://localhost:8080/",
          "height": 288
        }
      },
      "source": [
        "a = double[double['annual_inc'] < 30000]\n",
        "a = a[a['annual_inc']>1000]\n",
        "a.describe()"
      ],
      "execution_count": 0,
      "outputs": [
        {
          "output_type": "execute_result",
          "data": {
            "text/html": [
              "<div>\n",
              "<style scoped>\n",
              "    .dataframe tbody tr th:only-of-type {\n",
              "        vertical-align: middle;\n",
              "    }\n",
              "\n",
              "    .dataframe tbody tr th {\n",
              "        vertical-align: top;\n",
              "    }\n",
              "\n",
              "    .dataframe thead th {\n",
              "        text-align: right;\n",
              "    }\n",
              "</style>\n",
              "<table border=\"1\" class=\"dataframe\">\n",
              "  <thead>\n",
              "    <tr style=\"text-align: right;\">\n",
              "      <th></th>\n",
              "      <th>annual_inc</th>\n",
              "      <th>funded_amnt</th>\n",
              "      <th>installment</th>\n",
              "      <th>int_rate</th>\n",
              "      <th>dti</th>\n",
              "      <th>delinq_2yrs</th>\n",
              "      <th>loan_status</th>\n",
              "    </tr>\n",
              "  </thead>\n",
              "  <tbody>\n",
              "    <tr>\n",
              "      <th>count</th>\n",
              "      <td>75788.000000</td>\n",
              "      <td>75788.000000</td>\n",
              "      <td>75788.000000</td>\n",
              "      <td>75788.000000</td>\n",
              "      <td>75788.000000</td>\n",
              "      <td>75788.000000</td>\n",
              "      <td>75788.000000</td>\n",
              "    </tr>\n",
              "    <tr>\n",
              "      <th>mean</th>\n",
              "      <td>22896.970000</td>\n",
              "      <td>6633.197538</td>\n",
              "      <td>220.103568</td>\n",
              "      <td>14.294131</td>\n",
              "      <td>21.797897</td>\n",
              "      <td>0.177548</td>\n",
              "      <td>0.753879</td>\n",
              "    </tr>\n",
              "    <tr>\n",
              "      <th>std</th>\n",
              "      <td>4959.063873</td>\n",
              "      <td>3939.166059</td>\n",
              "      <td>122.510074</td>\n",
              "      <td>4.363657</td>\n",
              "      <td>22.185997</td>\n",
              "      <td>0.644526</td>\n",
              "      <td>0.430753</td>\n",
              "    </tr>\n",
              "    <tr>\n",
              "      <th>min</th>\n",
              "      <td>1008.000000</td>\n",
              "      <td>500.000000</td>\n",
              "      <td>15.670000</td>\n",
              "      <td>5.310000</td>\n",
              "      <td>0.000000</td>\n",
              "      <td>0.000000</td>\n",
              "      <td>0.000000</td>\n",
              "    </tr>\n",
              "    <tr>\n",
              "      <th>25%</th>\n",
              "      <td>20000.000000</td>\n",
              "      <td>4000.000000</td>\n",
              "      <td>141.110000</td>\n",
              "      <td>11.470000</td>\n",
              "      <td>12.800000</td>\n",
              "      <td>0.000000</td>\n",
              "      <td>1.000000</td>\n",
              "    </tr>\n",
              "    <tr>\n",
              "      <th>50%</th>\n",
              "      <td>24000.000000</td>\n",
              "      <td>6000.000000</td>\n",
              "      <td>203.590000</td>\n",
              "      <td>13.980000</td>\n",
              "      <td>20.210000</td>\n",
              "      <td>0.000000</td>\n",
              "      <td>1.000000</td>\n",
              "    </tr>\n",
              "    <tr>\n",
              "      <th>75%</th>\n",
              "      <td>26880.000000</td>\n",
              "      <td>8450.000000</td>\n",
              "      <td>283.380000</td>\n",
              "      <td>16.990000</td>\n",
              "      <td>27.622500</td>\n",
              "      <td>0.000000</td>\n",
              "      <td>1.000000</td>\n",
              "    </tr>\n",
              "    <tr>\n",
              "      <th>max</th>\n",
              "      <td>29999.000000</td>\n",
              "      <td>40000.000000</td>\n",
              "      <td>1566.800000</td>\n",
              "      <td>30.990000</td>\n",
              "      <td>999.000000</td>\n",
              "      <td>39.000000</td>\n",
              "      <td>1.000000</td>\n",
              "    </tr>\n",
              "  </tbody>\n",
              "</table>\n",
              "</div>"
            ],
            "text/plain": [
              "         annual_inc   funded_amnt  ...   delinq_2yrs   loan_status\n",
              "count  75788.000000  75788.000000  ...  75788.000000  75788.000000\n",
              "mean   22896.970000   6633.197538  ...      0.177548      0.753879\n",
              "std     4959.063873   3939.166059  ...      0.644526      0.430753\n",
              "min     1008.000000    500.000000  ...      0.000000      0.000000\n",
              "25%    20000.000000   4000.000000  ...      0.000000      1.000000\n",
              "50%    24000.000000   6000.000000  ...      0.000000      1.000000\n",
              "75%    26880.000000   8450.000000  ...      0.000000      1.000000\n",
              "max    29999.000000  40000.000000  ...     39.000000      1.000000\n",
              "\n",
              "[8 rows x 7 columns]"
            ]
          },
          "metadata": {
            "tags": []
          },
          "execution_count": 21
        }
      ]
    },
    {
      "cell_type": "code",
      "metadata": {
        "id": "E4B2NAxSEHLO",
        "colab_type": "code",
        "colab": {}
      },
      "source": [
        "# Adding missing columns to CoF:\n",
        "# Each loan group is a dataframe under the respective variables\n",
        "# Grouped by loan_amount: {1000, 5000 , 10000 , 200000 , 30000 } => {CoFX1, CoFX5, CoFX10, CoFX20,CoFX30}\n",
        "\n",
        "CoF['funded_amnt'] = np.nan \n",
        "CoF['installment'] = np.nan\n",
        "CoF['int_rate'] = np.nan\n",
        "CoF['dti'] = np.nan\n",
        "CoF['delinq_2yrs'] = np.nan\n",
        "CoF['loan_status'] = np.nan\n",
        "\n"
      ],
      "execution_count": 0,
      "outputs": []
    },
    {
      "cell_type": "code",
      "metadata": {
        "id": "yiEpYJAblTZX",
        "colab_type": "code",
        "colab": {}
      },
      "source": [
        "# Begin  Loan testing:\n",
        "# choose a group"
      ],
      "execution_count": 0,
      "outputs": []
    },
    {
      "cell_type": "code",
      "metadata": {
        "id": "De9h9qIpsfEF",
        "colab_type": "code",
        "colab": {}
      },
      "source": [
        "#Group 1\n",
        "CoF['funded_amnt'] = 1000\n",
        "CoFX = CoF[['annual_inc','funded_amnt']]\n",
        " #CoFX1.sample(5)"
      ],
      "execution_count": 0,
      "outputs": []
    },
    {
      "cell_type": "code",
      "metadata": {
        "id": "ZOjgOl5HrNTE",
        "colab_type": "code",
        "colab": {}
      },
      "source": [
        "#Group 2\n",
        "CoF['funded_amnt'] = 5000\n",
        "CoFX = CoF[['annual_inc','funded_amnt']]\n",
        " #CoFX2.sample(5)"
      ],
      "execution_count": 0,
      "outputs": []
    },
    {
      "cell_type": "code",
      "metadata": {
        "id": "ykRZy7mfskWK",
        "colab_type": "code",
        "colab": {}
      },
      "source": [
        "#Group 3\n",
        "CoF['funded_amnt'] = 40000\n",
        "CoFX = CoF[['annual_inc','funded_amnt']]\n",
        " #CoFX3.sample(5)"
      ],
      "execution_count": 0,
      "outputs": []
    },
    {
      "cell_type": "markdown",
      "metadata": {
        "id": "FAijB0Hjk3xa",
        "colab_type": "text"
      },
      "source": [
        ""
      ]
    },
    {
      "cell_type": "code",
      "metadata": {
        "id": "FtR1ShkbuNzE",
        "colab_type": "code",
        "outputId": "dc12181b-857c-4cb0-e81e-25d5f6f9a9dc",
        "colab": {
          "base_uri": "https://localhost:8080/",
          "height": 34
        }
      },
      "source": [
        "# Begin Logistic Regression: \"CELL 1\"\n",
        "# Split the data \n",
        "from sklearn.model_selection import train_test_split\n",
        "X = double[['annual_inc','funded_amnt','installment','int_rate','dti','delinq_2yrs']]\n",
        "y = double['loan_status']\n",
        "x_trn, x_tst, y_trn, y_tst = train_test_split(X,y,test_size=.2)\n",
        "\n",
        "# make model  \"CELL 2\"\n",
        "from sklearn.linear_model import LogisticRegression\n",
        "logReg = LogisticRegression(max_iter=200)\n",
        "logReg.fit(x_trn,y_trn)\n",
        "\n",
        "# Stats on predictor model:    \"CELL 3\"\n",
        "predict = logReg.predict(x_tst)\n",
        "score = logReg.score(x_tst,y_tst)\n",
        "print(\"accuracy: \",100*score)"
      ],
      "execution_count": 0,
      "outputs": [
        {
          "output_type": "stream",
          "text": [
            "accuracy:  79.928414202316\n"
          ],
          "name": "stdout"
        }
      ]
    },
    {
      "cell_type": "code",
      "metadata": {
        "id": "DCNf8W_RxU7h",
        "colab_type": "code",
        "outputId": "00364dc2-9289-4a66-f344-ee15cfce811a",
        "colab": {
          "base_uri": "https://localhost:8080/",
          "height": 87
        }
      },
      "source": [
        "#Create Linear regression model,\n",
        "# we train this model in order to populate the missing \n",
        "# variables needed in the employee payroll data set\n",
        "########################\n",
        "# uses annual income and funded_amnt to try and predict: installment, int_rate, dti, delinq_2yrs\n",
        "from sklearn.linear_model import LinearRegression\n",
        "LinR= LinearRegression(fit_intercept=True,normalize=True)\n",
        "X = double[['annual_inc','funded_amnt']]#['annual_inc'].values.reshape(-1,1)\n",
        "y = double[['installment','int_rate','dti','delinq_2yrs']]\n",
        "x_trn, x_tst,y_trn,y_tst = train_test_split(X,y,test_size=.1) \n",
        "LinR.fit(x_trn,y_trn)\n",
        "\n",
        "# linear regressor stats\n",
        "predict1= LinR.predict(x_tst)\n",
        "score = LinR.score(x_tst,y_tst)\n",
        "print(\"accuracy: \",100*score) # Currently >90% accuracy"
      ],
      "execution_count": 0,
      "outputs": [
        {
          "output_type": "stream",
          "text": [
            "accuracy:  90.89433850486637\n"
          ],
          "name": "stdout"
        },
        {
          "output_type": "stream",
          "text": [
            "/usr/local/lib/python3.6/dist-packages/sklearn/base.py:434: FutureWarning: The default value of multioutput (not exposed in score method) will change from 'variance_weighted' to 'uniform_average' in 0.23 to keep consistent with 'metrics.r2_score'. To specify the default value manually and avoid the warning, please either call 'metrics.r2_score' directly or make a custom scorer with 'metrics.make_scorer' (the built-in scorer 'r2' uses multioutput='uniform_average').\n",
            "  \"multioutput='uniform_average').\", FutureWarning)\n"
          ],
          "name": "stderr"
        }
      ]
    },
    {
      "cell_type": "code",
      "metadata": {
        "id": "MLxalTpLlanx",
        "colab_type": "code",
        "colab": {}
      },
      "source": [
        "# Run Linear regressor\n",
        "# Creating values for missing CoF variables:\n",
        "X1Val = LinR.predict(CoFX[['annual_inc','funded_amnt']])\n",
        "\n",
        "#Load missing dataframe values into CoF\n",
        "col_names = ['installment','int_rate','dti','delinq_2yrs']\n",
        "for i in range(len(X1Val)):\n",
        "  for j in range(0,4):\n",
        "    CoF.at[i,col_names[j]]=X1Val[i][j]"
      ],
      "execution_count": 0,
      "outputs": []
    },
    {
      "cell_type": "code",
      "metadata": {
        "id": "NvCODqmX9Ivd",
        "colab_type": "code",
        "colab": {}
      },
      "source": [
        "#Run Logistic prediction model on newly filled CoF dataframe\n",
        "# Log(CoF):\n",
        "X1loanX = CoF[['annual_inc','funded_amnt','installment','int_rate','dti','delinq_2yrs']]\n",
        "X1LoanY = logReg.predict(X1loanX)\n",
        "\n",
        "# Write predictions into CoF\n",
        "for i in range(len(X1LoanY)):\n",
        "  CoF.at[i,'loan_status'] = X1LoanY[i]"
      ],
      "execution_count": 0,
      "outputs": []
    },
    {
      "cell_type": "code",
      "metadata": {
        "id": "QNAa9xKKlRI4",
        "colab_type": "code",
        "outputId": "2cfc184b-1764-4730-abf5-a0b2575ec7a9",
        "colab": {
          "base_uri": "https://localhost:8080/",
          "height": 297
        }
      },
      "source": [
        "# sns.scatterplot(hue='loan_status',x= 'annual_inc',y='dti',data=CoF)\n",
        "sns.regplot(x='annual_inc',y='dti',data=CoF,scatter=True, lowess=True)"
      ],
      "execution_count": 0,
      "outputs": [
        {
          "output_type": "execute_result",
          "data": {
            "text/plain": [
              "<matplotlib.axes._subplots.AxesSubplot at 0x7f77dcf2ac50>"
            ]
          },
          "metadata": {
            "tags": []
          },
          "execution_count": 20
        },
        {
          "output_type": "display_data",
          "data": {
            "image/png": "[encoded data removed]",
            "text/plain": [
              "<Figure size 432x288 with 1 Axes>"
            ]
          },
          "metadata": {
            "tags": [],
            "needs_background": "light"
          }
        }
      ]
    },
    {
      "cell_type": "code",
      "metadata": {
        "id": "Izm39b-Z2P7X",
        "colab_type": "code",
        "outputId": "817789a1-b8cf-42fe-9b15-13e6d6be0e8f",
        "colab": {
          "base_uri": "https://localhost:8080/",
          "height": 283
        }
      },
      "source": [
        "a =CoF[CoF.loan_status == 0]\n",
        "a.annual_inc.describe()\n",
        "x= a.job_title.value_counts().keys()[:5]\n",
        "y=a.job_title.value_counts().values[:5]\n",
        "sns.barplot(x= a.job_title.value_counts().keys()[:7],y=a.job_title.value_counts().values[:7],data=a)"
      ],
      "execution_count": 0,
      "outputs": [
        {
          "output_type": "execute_result",
          "data": {
            "text/plain": [
              "<matplotlib.axes._subplots.AxesSubplot at 0x7fbc392ee438>"
            ]
          },
          "metadata": {
            "tags": []
          },
          "execution_count": 43
        },
        {
          "output_type": "display_data",
          "data": {
            "image/png": "[encoded data removed]",
            "text/plain": [
              "<Figure size 432x288 with 1 Axes>"
            ]
          },
          "metadata": {
            "tags": [],
            "needs_background": "light"
          }
        }
      ]
    },
    {
      "cell_type": "code",
      "metadata": {
        "id": "rR3DVnbdS19o",
        "colab_type": "code",
        "outputId": "d8cc378e-d55b-4f52-a08f-65040c282853",
        "colab": {
          "base_uri": "https://localhost:8080/",
          "height": 305
        }
      },
      "source": [
        "CoF.sample(5)\n",
        "plt.title(\"Loan repayment based on loan amount 40k\")\n",
        "sns.boxplot(y= 'annual_inc',x='loan_status',data = TestD,hue='loan_status')\n",
        "plt.ylabel(\"Annual income >= 60,000\")\n",
        "plt.xlabel(\"Loan repayment\")"
      ],
      "execution_count": 0,
      "outputs": [
        {
          "output_type": "execute_result",
          "data": {
            "text/html": [
              "<div>\n",
              "<style scoped>\n",
              "    .dataframe tbody tr th:only-of-type {\n",
              "        vertical-align: middle;\n",
              "    }\n",
              "\n",
              "    .dataframe tbody tr th {\n",
              "        vertical-align: top;\n",
              "    }\n",
              "\n",
              "    .dataframe thead th {\n",
              "        text-align: right;\n",
              "    }\n",
              "</style>\n",
              "<table border=\"1\" class=\"dataframe\">\n",
              "  <thead>\n",
              "    <tr style=\"text-align: right;\">\n",
              "      <th></th>\n",
              "      <th>job_title</th>\n",
              "      <th>annual_inc</th>\n",
              "      <th>funded_amnt</th>\n",
              "      <th>installment</th>\n",
              "      <th>int_rate</th>\n",
              "      <th>dti</th>\n",
              "      <th>delinq_2yrs</th>\n",
              "      <th>loan_status</th>\n",
              "    </tr>\n",
              "  </thead>\n",
              "  <tbody>\n",
              "    <tr>\n",
              "      <th>105</th>\n",
              "      <td>Airports Properties Manager</td>\n",
              "      <td>81487</td>\n",
              "      <td>40000</td>\n",
              "      <td>1169.835057</td>\n",
              "      <td>15.778159</td>\n",
              "      <td>20.827085</td>\n",
              "      <td>0.278433</td>\n",
              "      <td>1.0</td>\n",
              "    </tr>\n",
              "    <tr>\n",
              "      <th>1959</th>\n",
              "      <td>Police Officer</td>\n",
              "      <td>22757</td>\n",
              "      <td>40000</td>\n",
              "      <td>1168.632853</td>\n",
              "      <td>16.280340</td>\n",
              "      <td>22.340561</td>\n",
              "      <td>0.245130</td>\n",
              "      <td>1.0</td>\n",
              "    </tr>\n",
              "    <tr>\n",
              "      <th>942</th>\n",
              "      <td>Equipment Supervisor</td>\n",
              "      <td>76401</td>\n",
              "      <td>40000</td>\n",
              "      <td>1169.730946</td>\n",
              "      <td>15.821648</td>\n",
              "      <td>20.958152</td>\n",
              "      <td>0.275549</td>\n",
              "      <td>1.0</td>\n",
              "    </tr>\n",
              "    <tr>\n",
              "      <th>3138</th>\n",
              "      <td>Senior Administrative Clerk</td>\n",
              "      <td>12802</td>\n",
              "      <td>40000</td>\n",
              "      <td>1168.429075</td>\n",
              "      <td>16.365462</td>\n",
              "      <td>22.597102</td>\n",
              "      <td>0.239486</td>\n",
              "      <td>0.0</td>\n",
              "    </tr>\n",
              "    <tr>\n",
              "      <th>430</th>\n",
              "      <td>Bus Driver</td>\n",
              "      <td>84999</td>\n",
              "      <td>40000</td>\n",
              "      <td>1169.906947</td>\n",
              "      <td>15.748129</td>\n",
              "      <td>20.736581</td>\n",
              "      <td>0.280425</td>\n",
              "      <td>1.0</td>\n",
              "    </tr>\n",
              "  </tbody>\n",
              "</table>\n",
              "</div>"
            ],
            "text/plain": [
              "                        job_title  annual_inc  ...  delinq_2yrs  loan_status\n",
              "105   Airports Properties Manager       81487  ...     0.278433          1.0\n",
              "1959               Police Officer       22757  ...     0.245130          1.0\n",
              "942          Equipment Supervisor       76401  ...     0.275549          1.0\n",
              "3138  Senior Administrative Clerk       12802  ...     0.239486          0.0\n",
              "430                    Bus Driver       84999  ...     0.280425          1.0\n",
              "\n",
              "[5 rows x 8 columns]"
            ]
          },
          "metadata": {
            "tags": []
          },
          "execution_count": 15
        }
      ]
    },
    {
      "cell_type": "code",
      "metadata": {
        "id": "2sdWxlSEJ75n",
        "colab_type": "code",
        "outputId": "a4ac2794-877c-41d2-f6e3-4bcca4cb899a",
        "colab": {
          "base_uri": "https://localhost:8080/",
          "height": 457
        }
      },
      "source": [
        "\n",
        "TestD = CoF[CoF.annual_inc <=60000]\n",
        "# TestD.head()\n",
        "print(CoF.head())\n",
        "plt.title(\"Loan repayment based on loan amount 40k\")\n",
        "sns.boxplot(y= 'annual_inc',x='loan_status',data = TestD,hue='loan_status')\n",
        "plt.ylabel(\"Annual income >= 60,000\")\n",
        "plt.xlabel(\"Loan repayment\")"
      ],
      "execution_count": 0,
      "outputs": [
        {
          "output_type": "stream",
          "text": [
            "          job_title  annual_inc  ...  delinq_2yrs  loan_status\n",
            "0  Account Clerk II        2646  ...     0.231179          0.0\n",
            "1  Account Clerk II        5845  ...     0.233017          0.0\n",
            "2  Account Clerk II       31546  ...     0.247783          1.0\n",
            "3  Account Clerk II       36670  ...     0.250727          1.0\n",
            "4  Account Clerk II       38297  ...     0.251662          1.0\n",
            "\n",
            "[5 rows x 8 columns]\n"
          ],
          "name": "stdout"
        },
        {
          "output_type": "execute_result",
          "data": {
            "text/plain": [
              "Text(0.5, 0, 'Loan repayment')"
            ]
          },
          "metadata": {
            "tags": []
          },
          "execution_count": 133
        },
        {
          "output_type": "display_data",
          "data": {
            "image/png": "[encoded data removed]",
            "text/plain": [
              "<Figure size 432x288 with 1 Axes>"
            ]
          },
          "metadata": {
            "tags": [],
            "needs_background": "light"
          }
        }
      ]
    },
    {
      "cell_type": "code",
      "metadata": {
        "id": "uOmWyb2eFAPX",
        "colab_type": "code",
        "colab": {}
      },
      "source": [
        "#CoF.annual_inc.mean()\n",
        "#print(CoF.max())\n",
        "#print(CoF.min())\n"
      ],
      "execution_count": 0,
      "outputs": []
    },
    {
      "cell_type": "code",
      "metadata": {
        "id": "Tu7BlgVwCKAR",
        "colab_type": "code",
        "outputId": "d29fe0c1-396a-40b6-fd95-ea6b8da8716a",
        "colab": {
          "base_uri": "https://localhost:8080/",
          "height": 35
        }
      },
      "source": [
        "#CoF.head(5)\n",
        "#yy = CoF[\"loan_status\"]\n",
        "#print(yy.max())\n",
        "#print(yy.mean())\n",
        "#print(yy.min())\n",
        "#print(yy.std())\n",
        "double[\"delinq_2yrs\"].max()"
      ],
      "execution_count": 0,
      "outputs": [
        {
          "output_type": "execute_result",
          "data": {
            "text/plain": [
              "39.0"
            ]
          },
          "metadata": {
            "tags": []
          },
          "execution_count": 134
        }
      ]
    },
    {
      "cell_type": "code",
      "metadata": {
        "id": "TgsX-LppLLyX",
        "colab_type": "code",
        "outputId": "e27cff03-40e4-4be1-ec47-e85f0a2c5cb5",
        "colab": {
          "base_uri": "https://localhost:8080/",
          "height": 298
        }
      },
      "source": [
        "sns.distplot(CoF.loan_status)"
      ],
      "execution_count": 0,
      "outputs": [
        {
          "output_type": "execute_result",
          "data": {
            "text/plain": [
              "<matplotlib.axes._subplots.AxesSubplot at 0x7fcfb76a45c0>"
            ]
          },
          "metadata": {
            "tags": []
          },
          "execution_count": 135
        },
        {
          "output_type": "display_data",
          "data": {
            "image/png": "[encoded data removed]",
            "text/plain": [
              "<Figure size 432x288 with 1 Axes>"
            ]
          },
          "metadata": {
            "tags": [],
            "needs_background": "light"
          }
        }
      ]
    },
    {
      "cell_type": "code",
      "metadata": {
        "id": "Xap0Q7HYIVzf",
        "colab_type": "code",
        "colab": {}
      },
      "source": [
        ""
      ],
      "execution_count": 0,
      "outputs": []
    },
    {
      "cell_type": "code",
      "metadata": {
        "id": "c56Om83jHxQL",
        "colab_type": "code",
        "outputId": "f4200891-7d5f-428b-b374-44afbd9413db",
        "colab": {
          "base_uri": "https://localhost:8080/",
          "height": 89
        }
      },
      "source": [
        "# sns.scatterplot(x='annual_inc',y='')\n",
        "CoFG = CoF.groupby('loan_status').size()\n",
        "CoFG\n",
        "# sns.boxplot(x= 'loan_status',y='annual_inc',data=CoFG)"
      ],
      "execution_count": 0,
      "outputs": [
        {
          "output_type": "execute_result",
          "data": {
            "text/plain": [
              "loan_status\n",
              "0.0     950\n",
              "1.0    3330\n",
              "dtype: int64"
            ]
          },
          "metadata": {
            "tags": []
          },
          "execution_count": 136
        }
      ]
    },
    {
      "cell_type": "code",
      "metadata": {
        "id": "QusUxAYS6MsK",
        "colab_type": "code",
        "colab": {}
      },
      "source": [
        "# SIMRAN's\n",
        "# droping rows where bank balance is 0\n",
        "# data1.drop(data1[data1['annual_inc'].isnull().index], inplace = True)\n",
        "# data2.drop(data2[data2['Balance'] == 0].index, inplace = True)\n",
        "#data3.drop(data3[data3[''] == 0].index, inplace = True)\n",
        "# data4.head()\n",
        "\n",
        "\n"
      ],
      "execution_count": 0,
      "outputs": []
    },
    {
      "cell_type": "code",
      "metadata": {
        "id": "ERRzSqNSNXmt",
        "colab_type": "code",
        "outputId": "0ec09ed2-a2b8-47ac-e8c2-201a65bafe9d",
        "colab": {
          "base_uri": "https://localhost:8080/",
          "height": 231
        }
      },
      "source": [
        "# Plotting and Figures:                               #FOR POWERPOINT\n",
        "\n",
        "a_ag = a.agg({'loan_status':'count','annual_inc':['mean'],'funded_amnt':'mean'})\n",
        "a_ag\n",
        "# \n",
        "double['funded_amnt'].value_counts().head(10).plot(kind='barh')\n",
        "plt.ylabel(\"loan amount\")\n",
        "plt.xlabel(\"occurences\")\n",
        "#\n",
        "double['loan_status'].value_counts().head(30).plot(kind='pie')\n",
        "#\n",
        "CoF['job_title'].value_counts().head(30).plot(kind='barh', figsize=(20,10))\n",
        "# sns.distplot(CoF.annual_inc,kde=True)\n",
        "# sns.regplot(y='dti',x='loan_status',data = double)\n",
        "# CoF = CoF[CoF['annual_inc']>=1000]\n",
        "# CoF.count()\n",
        "# plt.figure(figsize=(20,5))\n",
        "# sns.relplot(y='job_title',x='annual_inc',data=CoF,height=4,aspect=1)\n",
        "\n",
        "# Top 10 Occupations\n",
        "# Police Officer -\n",
        "# Services Aide -\n",
        "# Bus Driver  -\n",
        "# Police Sergeant -\n",
        "# Lifeguard -\n",
        "# Firefighter Specialist  -\n",
        "# Laborer -\n",
        "# Firefighter\n",
        "# Fire Captain\n",
        "# # Sanitation Operator\n",
        "a = CoF[CoF['job_title']=='Police Officer']\n",
        "b = CoF[CoF['job_title']=='Lifeguard']\n",
        "c = CoF[CoF['job_title']=='Services Aide']\n",
        "d = CoF[CoF['job_title']=='Police Sergeant']\n",
        "e = CoF[CoF['job_title']=='Bus Driver']\n",
        "f = CoF[CoF['job_title'] == 'Firefighter Specialist']\n",
        "g = CoF[CoF['job_title']=='Laborer']\n",
        "h = CoF[CoF['job_title'] == 'Firefighter Specialist']\n",
        "i = CoF[CoF['job_title'] == 'Sanitation Operator']\n",
        "#  x = CoF[CoF['annual_inc']<=80000]\n",
        "#  y = CoF[CoF['annual_inc'] >= 60000]\n",
        "a = pd.merge(a,b,how='outer')\n",
        "a = pd.merge(a,c,how='outer')\n",
        "a = pd.merge(a,d,how='outer')\n",
        "a = pd.merge(a,e,how='outer')\n",
        "a = pd.merge(a,f,how='outer')\n",
        "a = pd.merge(a,g,how='outer')\n",
        "a = pd.merge(a,h,how='outer')\n",
        "a = pd.merge(a,i,how='outer')\n",
        "# a.job_title.value_counts()\n",
        "bb = a.groupby(['job_title'])\n",
        "b_ag = bb.agg({'annual_inc':'mean'})\n",
        "b_ag\n",
        "plt.figure(figsize=(15,4))\n",
        "sns.barplot(x='job_title',y='annual_inc',data=b_ag.reset_index())\n",
        "plt.ylabel('Mean Income')\n",
        "\n",
        "# # a.describe()\n",
        "# # a.job_title.value_counts()\n",
        "# # x = a[a['annual_inc'] < 70000]\n",
        "# # y = a[a['annual_inc'] > 40000]\n",
        "# # a = pd.merge(x,y,how='inner')\n",
        "\n",
        "# # sns.scatterplot(y='job_title',x='annual_inc',data = a)\n",
        "\n",
        "# #  a = a[a['job_title']=='Police Officer']\n",
        "# sns.barplot(y= 'job_title',x='annual_inc',data = a,hue='job_title')\n"
      ],
      "execution_count": 0,
      "outputs": [
        {
          "output_type": "error",
          "ename": "NameError",
          "evalue": "ignored",
          "traceback": [
            "\u001b[0;31m---------------------------------------------------------------------------\u001b[0m",
            "\u001b[0;31mNameError\u001b[0m                                 Traceback (most recent call last)",
            "\u001b[0;32m<ipython-input-21-f3ea2a35aac3>\u001b[0m in \u001b[0;36m<module>\u001b[0;34m()\u001b[0m\n\u001b[1;32m      1\u001b[0m \u001b[0;34m\u001b[0m\u001b[0m\n\u001b[0;32m----> 2\u001b[0;31m \u001b[0ma_ag\u001b[0m \u001b[0;34m=\u001b[0m \u001b[0ma\u001b[0m\u001b[0;34m.\u001b[0m\u001b[0magg\u001b[0m\u001b[0;34m(\u001b[0m\u001b[0;34m{\u001b[0m\u001b[0;34m'loan_status'\u001b[0m\u001b[0;34m:\u001b[0m\u001b[0;34m'count'\u001b[0m\u001b[0;34m,\u001b[0m\u001b[0;34m'annual_inc'\u001b[0m\u001b[0;34m:\u001b[0m\u001b[0;34m[\u001b[0m\u001b[0;34m'mean'\u001b[0m\u001b[0;34m]\u001b[0m\u001b[0;34m,\u001b[0m\u001b[0;34m'funded_amnt'\u001b[0m\u001b[0;34m:\u001b[0m\u001b[0;34m'mean'\u001b[0m\u001b[0;34m}\u001b[0m\u001b[0;34m)\u001b[0m\u001b[0;34m\u001b[0m\u001b[0;34m\u001b[0m\u001b[0m\n\u001b[0m\u001b[1;32m      3\u001b[0m \u001b[0ma_ag\u001b[0m\u001b[0;34m\u001b[0m\u001b[0;34m\u001b[0m\u001b[0m\n\u001b[1;32m      4\u001b[0m \u001b[0;31m#\u001b[0m\u001b[0;34m\u001b[0m\u001b[0;34m\u001b[0m\u001b[0;34m\u001b[0m\u001b[0m\n\u001b[1;32m      5\u001b[0m \u001b[0mdouble\u001b[0m\u001b[0;34m[\u001b[0m\u001b[0;34m'funded_amnt'\u001b[0m\u001b[0;34m]\u001b[0m\u001b[0;34m.\u001b[0m\u001b[0mvalue_counts\u001b[0m\u001b[0;34m(\u001b[0m\u001b[0;34m)\u001b[0m\u001b[0;34m.\u001b[0m\u001b[0mhead\u001b[0m\u001b[0;34m(\u001b[0m\u001b[0;36m10\u001b[0m\u001b[0;34m)\u001b[0m\u001b[0;34m.\u001b[0m\u001b[0mplot\u001b[0m\u001b[0;34m(\u001b[0m\u001b[0mkind\u001b[0m\u001b[0;34m=\u001b[0m\u001b[0;34m'barh'\u001b[0m\u001b[0;34m)\u001b[0m\u001b[0;34m\u001b[0m\u001b[0;34m\u001b[0m\u001b[0m\n",
            "\u001b[0;31mNameError\u001b[0m: name 'a' is not defined"
          ]
        }
      ]
    },
    {
      "cell_type": "code",
      "metadata": {
        "id": "ge8RnEDGM3zt",
        "colab_type": "code",
        "colab": {}
      },
      "source": [
        "# The first \n",
        "# testG = CoF.groupby(['job_title','loan_status'])\n",
        "# testG = CoF[(CoF.job_title == 'Police Officer')|\n",
        "#             (CoF.job_title == 'Firefighter')|\n",
        "#             (CoF.job_title == 'Services Aide')|\n",
        "#             (CoF.job_title == 'Police Sergeant')|\n",
        "#             (CoF.job_title == 'Bus Driver')|\n",
        "#             (CoF.job_title == 'Laborer')|\n",
        "#             (CoF.job_title == 'Firefighter Specialist')|\n",
        "#             (CoF.job_title == 'Sanitation Operator')|\n",
        "#             (CoF.job_title == 'Lifegaurd')\n",
        "#             ]\n",
        "# testG = CoF[(CoF.loan_status == 0) & (CoF.annual_inc >=10000) & (CoF.annual_inc < 30000)]\n",
        "# sns.scatterplot(x = '',y = 'loan_status',data=testG)\n",
        "# plt.pie(testG.loan_status)\n",
        "# testG.job_title.value_counts().values[:5]\n",
        "# testG = testG.groupby(['job_title','loan_status'])#.agg(lambda x:x.value_counts().index[0])\n",
        "# testG = testG[testG.job_title =='Accounting Technician']\n",
        "# testagg = testG.agg({'job_title':'count','annual_inc': 'mean', 'int_rate':'mean','installment':'mean'})\n",
        "# testagg\n",
        "# sns.barplot(x = 'job_title',y = 'loan_status',data=testG)\n",
        "# testG.sample()\n",
        "# sns.scatterplot(y='annual_inc',x= 'loan_status',data=testG)\n",
        "# sns.distplot(testG.annual_inc)\n"
      ],
      "execution_count": 0,
      "outputs": []
    },
    {
      "cell_type": "markdown",
      "metadata": {
        "id": "B6JopRUXtqTC",
        "colab_type": "text"
      },
      "source": [
        ""
      ]
    }
  ]
}